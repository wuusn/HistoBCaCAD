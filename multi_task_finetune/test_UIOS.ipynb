{
 "cells": [
  {
   "cell_type": "code",
   "execution_count": 2,
   "metadata": {},
   "outputs": [],
   "source": [
    "import torch\n",
    "from torch.nn import functional as F"
   ]
  },
  {
   "cell_type": "code",
   "execution_count": 12,
   "metadata": {},
   "outputs": [],
   "source": [
    "def uncertainty_score(pred):\n",
    "    evidences = [F.softplus(pred)]\n",
    "    print(evidences)\n",
    "    alpha = dict()\n",
    "    alpha[0] = evidences[0] + 1\n",
    "    print(alpha)\n",
    "    S = torch.sum(alpha[0], dim=1, keepdim=True)\n",
    "    print(S)\n",
    "    E = alpha[0] - 1\n",
    "    b = E/(S.expand(E.shape))\n",
    "    pred = torch.softmax(b, dim=1)\n",
    "    u = 3 / S\n",
    "    print(u)\n",
    "    return pred"
   ]
  },
  {
   "cell_type": "code",
   "execution_count": 13,
   "metadata": {},
   "outputs": [
    {
     "name": "stdout",
     "output_type": "stream",
     "text": [
      "[tensor([[0.1077, 0.9426, 0.3007],\n",
      "        [2.6972, 0.4521, 0.9692]])]\n",
      "{0: tensor([[1.1077, 1.9426, 1.3007],\n",
      "        [3.6972, 1.4521, 1.9692]])}\n",
      "tensor([[4.3509],\n",
      "        [7.1185]])\n",
      "tensor([[0.6895],\n",
      "        [0.4214]])\n"
     ]
    },
    {
     "data": {
      "text/plain": [
       "(tensor([[-2.1743,  0.4490, -1.0477],\n",
       "         [ 2.6274, -0.5592,  0.4922]]),\n",
       " tensor([[0.3070, 0.3720, 0.3210],\n",
       "         [0.3978, 0.2902, 0.3120]]))"
      ]
     },
     "execution_count": 13,
     "metadata": {},
     "output_type": "execute_result"
    }
   ],
   "source": [
    "a = torch.randn(2,3)\n",
    "b = uncertainty_score(a)\n",
    "a,b"
   ]
  }
 ],
 "metadata": {
  "kernelspec": {
   "display_name": "mmpretrain",
   "language": "python",
   "name": "python3"
  },
  "language_info": {
   "codemirror_mode": {
    "name": "ipython",
    "version": 3
   },
   "file_extension": ".py",
   "mimetype": "text/x-python",
   "name": "python",
   "nbconvert_exporter": "python",
   "pygments_lexer": "ipython3",
   "version": "3.11.5"
  }
 },
 "nbformat": 4,
 "nbformat_minor": 2
}
