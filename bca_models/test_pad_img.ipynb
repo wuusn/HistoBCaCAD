{
 "cells": [
  {
   "cell_type": "code",
   "execution_count": 1,
   "metadata": {},
   "outputs": [],
   "source": [
    "import sys\n",
    "sys.path.append('/home/yuxin/bme/BCaCAD/model')\n",
    "from patch_based_test.img import QiLuROI\n",
    "from PIL import Image, ImageOps\n",
    "\n",
    "roi_path  = '/mnt/hd0/project/bcacad/data/roi-level/suqh_full/test/dcis-2/01594.17-2-10x-x33298-y39454-w2091-h2988-dcis-2.png'\n",
    "roi_path = '/mnt/hd0/project/bcacad/data/roi-level/suqh_full/test/dcis-2/30127.17-6-10x-x39893-y74149-w1334-h1023-dcis-2.png'\n",
    "im = QiLuROI(roi_path,10,10, 336)"
   ]
  },
  {
   "cell_type": "code",
   "execution_count": 2,
   "metadata": {},
   "outputs": [],
   "source": [
    "im.setIterator(336)\n",
    "patches = [p for p in im]"
   ]
  }
 ],
 "metadata": {
  "kernelspec": {
   "display_name": "mmpretrain",
   "language": "python",
   "name": "python3"
  },
  "language_info": {
   "codemirror_mode": {
    "name": "ipython",
    "version": 3
   },
   "file_extension": ".py",
   "mimetype": "text/x-python",
   "name": "python",
   "nbconvert_exporter": "python",
   "pygments_lexer": "ipython3",
   "version": "3.11.5"
  }
 },
 "nbformat": 4,
 "nbformat_minor": 2
}
