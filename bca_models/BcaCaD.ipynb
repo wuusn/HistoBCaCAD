{
 "cells": [
  {
   "cell_type": "code",
   "execution_count": 2,
   "metadata": {},
   "outputs": [
    {
     "name": "stderr",
     "output_type": "stream",
     "text": [
      "/home/yuxin/miniconda3/envs/histosslscaling/lib/python3.8/site-packages/umap/plot.py:203: NumbaDeprecationWarning: The keyword argument 'nopython=False' was supplied. From Numba 0.59.0 the default is being changed to True and use of 'nopython=False' will raise a warning as the argument will have no effect. See https://numba.readthedocs.io/en/stable/reference/deprecation.html#deprecation-of-object-mode-fall-back-behaviour-when-using-jit for details.\n",
      "  @numba.jit(nopython=False)\n"
     ]
    }
   ],
   "source": [
    "from PIL import Image\n",
    "from rl_benchmarks.models import iBOTViT\n",
    "from openslide import open_slide\n",
    "from openslide.deepzoom import DeepZoomGenerator\n",
    "import pathlib\n",
    "from tqdm import tqdm\n",
    "from PIL import Image\n",
    "import numpy as np\n",
    "Image.MAX_IMAGE_PIXELS = None\n",
    "from torchvision import transforms\n",
    "import torch\n",
    "from torch.utils.data import Dataset\n",
    "import os\n",
    "from multiprocessing import Pool\n",
    "import umap\n",
    "import numpy as np\n",
    "import matplotlib.pyplot as plt\n",
    "import sklearn\n",
    "from rl_benchmarks.utils.linear_evaluation import get_binary_class_metrics, get_bootstrapped_metrics, dict_to_dataframe\n",
    "import umap.plot"
   ]
  },
  {
   "cell_type": "code",
   "execution_count": 3,
   "metadata": {},
   "outputs": [
    {
     "name": "stderr",
     "output_type": "stream",
     "text": [
      "\u001b[32m2023-11-27 17:40:20.080\u001b[0m | \u001b[1mINFO    \u001b[0m | \u001b[36mrl_benchmarks.models.feature_extractors.ibot_vit\u001b[0m:\u001b[36m__init__\u001b[0m:\u001b[36m78\u001b[0m - \u001b[1mPretrained weights found at /home/yuxin/Downloads/ibot_vit_base_pancan.pth and loaded with msg: _IncompatibleKeys(missing_keys=[], unexpected_keys=['masked_embed', 'head.mlp.0.weight', 'head.mlp.0.bias', 'head.mlp.2.weight', 'head.mlp.2.bias', 'head.mlp.4.weight', 'head.mlp.4.bias', 'head.last_layer.weight_g', 'head.last_layer.weight_v', 'head.last_layer2.weight_g', 'head.last_layer2.weight_v'])\u001b[0m\n"
     ]
    }
   ],
   "source": [
    "device = \"cuda:0\" if torch.cuda.is_available() else \"cpu\"\n",
    "weights_path = '/home/yuxin/Downloads/ibot_vit_base_pancan.pth'\n",
    "ibot_base_pancancer = iBOTViT(architecture=\"vit_base_pancan\", encoder=\"student\", weights_path=weights_path).to(device)"
   ]
  },
  {
   "cell_type": "code",
   "execution_count": 5,
   "metadata": {},
   "outputs": [],
   "source": [
    "cohorts = ['SUQH', 'QDUH', 'SHSU']\n",
    "cohort_root = pathlib.Path('/mnt/hd0/original_datasets/JT_Breast/jt_extract')\n",
    "data_roots = {\n",
    "    'SUQH': cohort_root / 'QiLu' / '10xAnnoRegionMaskExtract',\n",
    "    'QDUH': cohort_root / 'QingDao' / '10xAnnoRegionMaskExtract_all',\n",
    "    'SHSU': cohort_root / 'ShanDaEr' / '10xAnnoRegionMaskExtract'\n",
    "}\n",
    "\n",
    "save_root = pathlib.Path('/mnt/hd0/project_large_files/bcacad')"
   ]
  },
  {
   "cell_type": "code",
   "execution_count": 10,
   "metadata": {},
   "outputs": [],
   "source": [
    "patch_size = 224\n",
    "data_trans = transforms.Compose([\n",
    "                                transforms.CenterCrop(patch_size),\n",
    "                                # transforms.Resize(patch_size),\n",
    "                                ibot_base_pancancer.transform,\n",
    "                                ])"
   ]
  },
  {
   "cell_type": "code",
   "execution_count": 11,
   "metadata": {},
   "outputs": [
    {
     "name": "stderr",
     "output_type": "stream",
     "text": [
      "Processing SUQH: 100%|██████████| 5059/5059 [03:15<00:00, 25.88it/s]\n",
      "Processing QDUH: 100%|██████████| 790/790 [00:33<00:00, 23.85it/s]\n",
      "Processing SHSU: 100%|██████████| 527/527 [00:27<00:00, 19.38it/s]\n"
     ]
    }
   ],
   "source": [
    "\n",
    "for cohort in cohorts:\n",
    "    data_root = data_roots[cohort]\n",
    "    tile_paths = list(data_root.glob('**/*.png'))\n",
    "    # exclude path if filename contains `mask`\n",
    "    tile_paths = [path for path in tile_paths if 'mask' not in path.name]\n",
    "    for path in tqdm(tile_paths, desc=f'Processing {cohort}'):\n",
    "        save_path = save_root / cohort / path.parent.name / f'{path.stem}.npy' \n",
    "        save_path.parent.mkdir(exist_ok=True, parents=True)\n",
    "        im = Image.open(path)\n",
    "        tensor = data_trans(im)\n",
    "        batch = tensor.unsqueeze(0)\n",
    "        batch = batch.to(device)\n",
    "        features = ibot_base_pancancer(batch).detach().cpu().numpy()\n",
    "        np.save(save_path, features)\n",
    "            \n"
   ]
  },
  {
   "cell_type": "code",
   "execution_count": 15,
   "metadata": {},
   "outputs": [],
   "source": [
    "def get_type_grade(path):\n",
    "    name = path.stem\n",
    "    splits = name.split('-')\n",
    "    type = splits[-2]\n",
    "    grade = splits[-1]\n",
    "    if type=='ibc':\n",
    "        type = 1\n",
    "    else:\n",
    "        type = 0\n",
    "    grade = int(grade)-1\n",
    "    return type, grade"
   ]
  },
  {
   "cell_type": "code",
   "execution_count": 16,
   "metadata": {},
   "outputs": [],
   "source": [
    "from sklearn.metrics import confusion_matrix\n",
    "import seaborn as sns\n",
    "import matplotlib.pyplot as plt\n",
    "\n",
    "def plot_confusion_matrix(confusion_matrix, labels):\n",
    "    fig, ax = plt.subplots(figsize=(8, 6))\n",
    "    sns.heatmap(confusion_matrix, annot=True, fmt=\"d\", cmap=\"Blues\", cbar=False, ax=ax)\n",
    "    ax.set_xlabel('Predicted')\n",
    "    ax.set_ylabel('Actual')\n",
    "    ax.set_xticklabels(labels)\n",
    "    ax.set_yticklabels(labels)\n",
    "    plt.title('Confusion Matrix')\n",
    "    plt.show()"
   ]
  },
  {
   "cell_type": "code",
   "execution_count": 17,
   "metadata": {},
   "outputs": [],
   "source": [
    "def get_metrics(labels, scores, class_names, phase='test'):\n",
    "    n_resamples = 1000\n",
    "    confidence_level = 0.95\n",
    "\n",
    "    binary_metrics = {phase:get_binary_class_metrics(labels, scores)}\n",
    "    bootstrapped_metrics = {phase: get_bootstrapped_metrics(\n",
    "        labels, scores, n_resamples=n_resamples, confidence_level=confidence_level\n",
    "    )}\n",
    "\n",
    "    results_dict = {\n",
    "        \"binary\": binary_metrics,\n",
    "        \"bootstrap\": bootstrapped_metrics,\n",
    "    }\n",
    "    \n",
    "    results = dict_to_dataframe(\n",
    "        results_dict, metrics=[\"auc\", \"acc\", \"f1\"], class_names=class_names\n",
    "    )\n",
    "    return results\n"
   ]
  },
  {
   "cell_type": "code",
   "execution_count": 24,
   "metadata": {},
   "outputs": [],
   "source": [
    "ibc_features = {}\n",
    "nonibc_features = {}\n",
    "ibc_labels = {}\n",
    "nonibc_labels = {}\n",
    "\n",
    "\n",
    "for cohort in cohorts:\n",
    "    feature_root = save_root / cohort\n",
    "    feature_paths = list(feature_root.glob('**/*.npy'))\n",
    "    _features = [np.load(path).flatten() for path in feature_paths]\n",
    "\n",
    "    types, grades = zip(*[get_type_grade(path) for path in feature_paths])\n",
    "\n",
    "    _ibc_features = [_features[i] for i in range(len(_features)) if types[i]==1]\n",
    "    _nonibc_features = [_features[i] for i in range(len(_features)) if types[i]==0]\n",
    "    _ibc_labels = [grades[i] for i in range(len(_features)) if types[i]==1]\n",
    "    _nonibc_labels = [grades[i] for i in range(len(_features)) if types[i]==0]\n",
    "\n",
    "    ibc_features[cohort] = _ibc_features\n",
    "    nonibc_features[cohort] = _nonibc_features\n",
    "    ibc_labels[cohort] = _ibc_labels\n",
    "    nonibc_labels[cohort] = _nonibc_labels "
   ]
  },
  {
   "cell_type": "markdown",
   "metadata": {},
   "source": [
    "# Grading IBC-1 IBC-2 IBC-3"
   ]
  },
  {
   "cell_type": "code",
   "execution_count": 19,
   "metadata": {},
   "outputs": [],
   "source": [
    "class_names = ['IBC 1', 'IBC 2', 'IBC 3']\n",
    "# mapper = umap.UMAP(n_neighbors=50, min_dist=0.02).fit(features['train'] + features['val'])\n",
    "# fig = plt.figure(figsize=(10, 10), dpi=100)\n",
    "# umap.plot.points(mapper, \n",
    "#                  labels=np.array(class_names)[np.array(labels['grade']['train'] + labels['grade']['val'])], \n",
    "#                  theme='fire')"
   ]
  },
  {
   "cell_type": "code",
   "execution_count": 25,
   "metadata": {},
   "outputs": [
    {
     "data": {
      "text/plain": [
       "(768,)"
      ]
     },
     "execution_count": 25,
     "metadata": {},
     "output_type": "execute_result"
    }
   ],
   "source": [
    "ibc_features['SUQH'][0].shape"
   ]
  },
  {
   "cell_type": "code",
   "execution_count": 26,
   "metadata": {},
   "outputs": [],
   "source": [
    "model1 = sklearn.linear_model.SGDClassifier(\n",
    "                loss=\"log_loss\",\n",
    "                penalty=\"l2\",\n",
    "                learning_rate=\"adaptive\",\n",
    "                eta0=1e-4,\n",
    "                n_jobs=8,\n",
    "                early_stopping=False,\n",
    "                random_state=2023,\n",
    "            ).fit(np.array(ibc_features['SUQH']), np.array(ibc_labels[\"SUQH\"]))"
   ]
  },
  {
   "cell_type": "code",
   "execution_count": 30,
   "metadata": {},
   "outputs": [
    {
     "data": {
      "text/plain": [
       "<bound method ClassifierMixin.score of SGDClassifier(eta0=0.0001, learning_rate='adaptive', loss='log_loss', n_jobs=8,\n",
       "              random_state=2023)>"
      ]
     },
     "execution_count": 30,
     "metadata": {},
     "output_type": "execute_result"
    }
   ],
   "source": [
    "model1.score"
   ]
  },
  {
   "cell_type": "code",
   "execution_count": 27,
   "metadata": {},
   "outputs": [
    {
     "data": {
      "image/png": "[encoded data removed]",
      "text/plain": [
       "<Figure size 800x600 with 1 Axes>"
      ]
     },
     "metadata": {},
     "output_type": "display_data"
    },
    {
     "data": {
      "text/html": [
       "<div>\n",
       "<style scoped>\n",
       "    .dataframe tbody tr th:only-of-type {\n",
       "        vertical-align: middle;\n",
       "    }\n",
       "\n",
       "    .dataframe tbody tr th {\n",
       "        vertical-align: top;\n",
       "    }\n",
       "\n",
       "    .dataframe thead th {\n",
       "        text-align: right;\n",
       "    }\n",
       "</style>\n",
       "<table border=\"1\" class=\"dataframe\">\n",
       "  <thead>\n",
       "    <tr style=\"text-align: right;\">\n",
       "      <th></th>\n",
       "      <th>0</th>\n",
       "    </tr>\n",
       "  </thead>\n",
       "  <tbody>\n",
       "    <tr>\n",
       "      <th>portion</th>\n",
       "      <td>test</td>\n",
       "    </tr>\n",
       "    <tr>\n",
       "      <th>IBC 1_auc</th>\n",
       "      <td>0.895624</td>\n",
       "    </tr>\n",
       "    <tr>\n",
       "      <th>IBC 1_acc</th>\n",
       "      <td>0.93018</td>\n",
       "    </tr>\n",
       "    <tr>\n",
       "      <th>IBC 1_f1</th>\n",
       "      <td>0.311111</td>\n",
       "    </tr>\n",
       "    <tr>\n",
       "      <th>IBC 2_auc</th>\n",
       "      <td>0.737864</td>\n",
       "    </tr>\n",
       "    <tr>\n",
       "      <th>IBC 2_acc</th>\n",
       "      <td>0.648649</td>\n",
       "    </tr>\n",
       "    <tr>\n",
       "      <th>IBC 2_f1</th>\n",
       "      <td>0.712177</td>\n",
       "    </tr>\n",
       "    <tr>\n",
       "      <th>IBC 3_auc</th>\n",
       "      <td>0.830821</td>\n",
       "    </tr>\n",
       "    <tr>\n",
       "      <th>IBC 3_acc</th>\n",
       "      <td>0.713964</td>\n",
       "    </tr>\n",
       "    <tr>\n",
       "      <th>IBC 3_f1</th>\n",
       "      <td>0.578073</td>\n",
       "    </tr>\n",
       "    <tr>\n",
       "      <th>auc</th>\n",
       "      <td>0.821436</td>\n",
       "    </tr>\n",
       "    <tr>\n",
       "      <th>acc</th>\n",
       "      <td>0.646396</td>\n",
       "    </tr>\n",
       "    <tr>\n",
       "      <th>f1</th>\n",
       "      <td>0.533787</td>\n",
       "    </tr>\n",
       "    <tr>\n",
       "      <th>bt_auc_low</th>\n",
       "      <td>0.791526</td>\n",
       "    </tr>\n",
       "    <tr>\n",
       "      <th>bt_auc_high</th>\n",
       "      <td>0.854307</td>\n",
       "    </tr>\n",
       "    <tr>\n",
       "      <th>bt_acc_low</th>\n",
       "      <td>0.601351</td>\n",
       "    </tr>\n",
       "    <tr>\n",
       "      <th>bt_acc_high</th>\n",
       "      <td>0.691441</td>\n",
       "    </tr>\n",
       "    <tr>\n",
       "      <th>bt_f1_low</th>\n",
       "      <td>0.461305</td>\n",
       "    </tr>\n",
       "    <tr>\n",
       "      <th>bt_f1_high</th>\n",
       "      <td>0.604689</td>\n",
       "    </tr>\n",
       "  </tbody>\n",
       "</table>\n",
       "</div>"
      ],
      "text/plain": [
       "                    0\n",
       "portion          test\n",
       "IBC 1_auc    0.895624\n",
       "IBC 1_acc     0.93018\n",
       "IBC 1_f1     0.311111\n",
       "IBC 2_auc    0.737864\n",
       "IBC 2_acc    0.648649\n",
       "IBC 2_f1     0.712177\n",
       "IBC 3_auc    0.830821\n",
       "IBC 3_acc    0.713964\n",
       "IBC 3_f1     0.578073\n",
       "auc          0.821436\n",
       "acc          0.646396\n",
       "f1           0.533787\n",
       "bt_auc_low   0.791526\n",
       "bt_auc_high  0.854307\n",
       "bt_acc_low   0.601351\n",
       "bt_acc_high  0.691441\n",
       "bt_f1_low    0.461305\n",
       "bt_f1_high   0.604689"
      ]
     },
     "execution_count": 27,
     "metadata": {},
     "output_type": "execute_result"
    }
   ],
   "source": [
    "model = model1\n",
    "cohort = 'QDUH'\n",
    "test_scores = model.predict_proba(ibc_features[cohort])\n",
    "test_preds = model.predict(ibc_features[cohort])\n",
    "plot_confusion_matrix(confusion_matrix(ibc_labels[cohort], test_preds), class_names)\n",
    "get_metrics(ibc_labels[cohort], test_scores, class_names).T"
   ]
  },
  {
   "cell_type": "code",
   "execution_count": 28,
   "metadata": {},
   "outputs": [
    {
     "data": {
      "image/png": "[encoded data removed]",
      "text/plain": [
       "<Figure size 800x600 with 1 Axes>"
      ]
     },
     "metadata": {},
     "output_type": "display_data"
    },
    {
     "data": {
      "text/html": [
       "<div>\n",
       "<style scoped>\n",
       "    .dataframe tbody tr th:only-of-type {\n",
       "        vertical-align: middle;\n",
       "    }\n",
       "\n",
       "    .dataframe tbody tr th {\n",
       "        vertical-align: top;\n",
       "    }\n",
       "\n",
       "    .dataframe thead th {\n",
       "        text-align: right;\n",
       "    }\n",
       "</style>\n",
       "<table border=\"1\" class=\"dataframe\">\n",
       "  <thead>\n",
       "    <tr style=\"text-align: right;\">\n",
       "      <th></th>\n",
       "      <th>0</th>\n",
       "    </tr>\n",
       "  </thead>\n",
       "  <tbody>\n",
       "    <tr>\n",
       "      <th>portion</th>\n",
       "      <td>test</td>\n",
       "    </tr>\n",
       "    <tr>\n",
       "      <th>IBC 1_auc</th>\n",
       "      <td>0.919223</td>\n",
       "    </tr>\n",
       "    <tr>\n",
       "      <th>IBC 1_acc</th>\n",
       "      <td>0.918182</td>\n",
       "    </tr>\n",
       "    <tr>\n",
       "      <th>IBC 1_f1</th>\n",
       "      <td>0.5</td>\n",
       "    </tr>\n",
       "    <tr>\n",
       "      <th>IBC 2_auc</th>\n",
       "      <td>0.689019</td>\n",
       "    </tr>\n",
       "    <tr>\n",
       "      <th>IBC 2_acc</th>\n",
       "      <td>0.6</td>\n",
       "    </tr>\n",
       "    <tr>\n",
       "      <th>IBC 2_f1</th>\n",
       "      <td>0.650794</td>\n",
       "    </tr>\n",
       "    <tr>\n",
       "      <th>IBC 3_auc</th>\n",
       "      <td>0.797414</td>\n",
       "    </tr>\n",
       "    <tr>\n",
       "      <th>IBC 3_acc</th>\n",
       "      <td>0.681818</td>\n",
       "    </tr>\n",
       "    <tr>\n",
       "      <th>IBC 3_f1</th>\n",
       "      <td>0.539474</td>\n",
       "    </tr>\n",
       "    <tr>\n",
       "      <th>auc</th>\n",
       "      <td>0.801885</td>\n",
       "    </tr>\n",
       "    <tr>\n",
       "      <th>acc</th>\n",
       "      <td>0.6</td>\n",
       "    </tr>\n",
       "    <tr>\n",
       "      <th>f1</th>\n",
       "      <td>0.563422</td>\n",
       "    </tr>\n",
       "    <tr>\n",
       "      <th>bt_auc_low</th>\n",
       "      <td>0.753831</td>\n",
       "    </tr>\n",
       "    <tr>\n",
       "      <th>bt_auc_high</th>\n",
       "      <td>0.847389</td>\n",
       "    </tr>\n",
       "    <tr>\n",
       "      <th>bt_acc_low</th>\n",
       "      <td>0.531818</td>\n",
       "    </tr>\n",
       "    <tr>\n",
       "      <th>bt_acc_high</th>\n",
       "      <td>0.663636</td>\n",
       "    </tr>\n",
       "    <tr>\n",
       "      <th>bt_f1_low</th>\n",
       "      <td>0.485728</td>\n",
       "    </tr>\n",
       "    <tr>\n",
       "      <th>bt_f1_high</th>\n",
       "      <td>0.654821</td>\n",
       "    </tr>\n",
       "  </tbody>\n",
       "</table>\n",
       "</div>"
      ],
      "text/plain": [
       "                    0\n",
       "portion          test\n",
       "IBC 1_auc    0.919223\n",
       "IBC 1_acc    0.918182\n",
       "IBC 1_f1          0.5\n",
       "IBC 2_auc    0.689019\n",
       "IBC 2_acc         0.6\n",
       "IBC 2_f1     0.650794\n",
       "IBC 3_auc    0.797414\n",
       "IBC 3_acc    0.681818\n",
       "IBC 3_f1     0.539474\n",
       "auc          0.801885\n",
       "acc               0.6\n",
       "f1           0.563422\n",
       "bt_auc_low   0.753831\n",
       "bt_auc_high  0.847389\n",
       "bt_acc_low   0.531818\n",
       "bt_acc_high  0.663636\n",
       "bt_f1_low    0.485728\n",
       "bt_f1_high   0.654821"
      ]
     },
     "execution_count": 28,
     "metadata": {},
     "output_type": "execute_result"
    }
   ],
   "source": [
    "model = model1\n",
    "cohort = 'SHSU'\n",
    "test_scores = model.predict_proba(ibc_features[cohort])\n",
    "test_preds = model.predict(ibc_features[cohort])\n",
    "plot_confusion_matrix(confusion_matrix(ibc_labels[cohort], test_preds), class_names)\n",
    "get_metrics(ibc_labels[cohort], test_scores, class_names).T"
   ]
  },
  {
   "cell_type": "markdown",
   "metadata": {},
   "source": [
    "# Grading IBC-1 vs IBC-3"
   ]
  },
  {
   "cell_type": "code",
   "execution_count": 35,
   "metadata": {},
   "outputs": [],
   "source": [
    "class_names = ['IBC-1', 'IBC-3']"
   ]
  },
  {
   "cell_type": "code",
   "execution_count": 33,
   "metadata": {},
   "outputs": [],
   "source": [
    "g13_features = {}\n",
    "g13_labels = {}\n",
    "for cohort in cohorts:\n",
    "\n",
    "    labels = ibc_labels[cohort]\n",
    "    _labels = []\n",
    "    _features = []\n",
    "    for i in range(len(labels)):\n",
    "        if labels[i] == 1:\n",
    "            continue\n",
    "        elif labels[i] == 0:\n",
    "            _labels.append(0)\n",
    "            _features.append(ibc_features[cohort][i])\n",
    "        else:\n",
    "            _labels.append(1)\n",
    "            _features.append(ibc_features[cohort][i])\n",
    "    g13_features[cohort] = _features\n",
    "    g13_labels[cohort] = _labels\n"
   ]
  },
  {
   "cell_type": "code",
   "execution_count": 34,
   "metadata": {},
   "outputs": [],
   "source": [
    "\n",
    "\n",
    "model2 = sklearn.linear_model.SGDClassifier(\n",
    "                loss=\"log_loss\",\n",
    "                penalty=\"l2\",\n",
    "                learning_rate=\"adaptive\",\n",
    "                eta0=1e-4,\n",
    "                n_jobs=8,\n",
    "                early_stopping=False,\n",
    "                random_state=2023,\n",
    "            ).fit(np.array(g13_features['SUQH']), np.array(g13_labels[\"SUQH\"]))"
   ]
  },
  {
   "cell_type": "code",
   "execution_count": 36,
   "metadata": {},
   "outputs": [
    {
     "data": {
      "image/png": "[encoded data removed]",
      "text/plain": [
       "<Figure size 800x600 with 1 Axes>"
      ]
     },
     "metadata": {},
     "output_type": "display_data"
    },
    {
     "data": {
      "text/html": [
       "<div>\n",
       "<style scoped>\n",
       "    .dataframe tbody tr th:only-of-type {\n",
       "        vertical-align: middle;\n",
       "    }\n",
       "\n",
       "    .dataframe tbody tr th {\n",
       "        vertical-align: top;\n",
       "    }\n",
       "\n",
       "    .dataframe thead th {\n",
       "        text-align: right;\n",
       "    }\n",
       "</style>\n",
       "<table border=\"1\" class=\"dataframe\">\n",
       "  <thead>\n",
       "    <tr style=\"text-align: right;\">\n",
       "      <th></th>\n",
       "      <th>0</th>\n",
       "    </tr>\n",
       "  </thead>\n",
       "  <tbody>\n",
       "    <tr>\n",
       "      <th>portion</th>\n",
       "      <td>test</td>\n",
       "    </tr>\n",
       "    <tr>\n",
       "      <th>IBC-1_auc</th>\n",
       "      <td>0.987168</td>\n",
       "    </tr>\n",
       "    <tr>\n",
       "      <th>IBC-1_acc</th>\n",
       "      <td>0.953782</td>\n",
       "    </tr>\n",
       "    <tr>\n",
       "      <th>IBC-1_f1</th>\n",
       "      <td>0.84058</td>\n",
       "    </tr>\n",
       "    <tr>\n",
       "      <th>IBC-3_auc</th>\n",
       "      <td>0.987168</td>\n",
       "    </tr>\n",
       "    <tr>\n",
       "      <th>IBC-3_acc</th>\n",
       "      <td>0.953782</td>\n",
       "    </tr>\n",
       "    <tr>\n",
       "      <th>IBC-3_f1</th>\n",
       "      <td>0.972973</td>\n",
       "    </tr>\n",
       "    <tr>\n",
       "      <th>auc</th>\n",
       "      <td>0.987168</td>\n",
       "    </tr>\n",
       "    <tr>\n",
       "      <th>acc</th>\n",
       "      <td>0.953782</td>\n",
       "    </tr>\n",
       "    <tr>\n",
       "      <th>f1</th>\n",
       "      <td>0.972973</td>\n",
       "    </tr>\n",
       "    <tr>\n",
       "      <th>bt_auc_low</th>\n",
       "      <td>0.977884</td>\n",
       "    </tr>\n",
       "    <tr>\n",
       "      <th>bt_auc_high</th>\n",
       "      <td>0.999741</td>\n",
       "    </tr>\n",
       "    <tr>\n",
       "      <th>bt_acc_low</th>\n",
       "      <td>0.928571</td>\n",
       "    </tr>\n",
       "    <tr>\n",
       "      <th>bt_acc_high</th>\n",
       "      <td>0.983193</td>\n",
       "    </tr>\n",
       "    <tr>\n",
       "      <th>bt_f1_low</th>\n",
       "      <td>0.958052</td>\n",
       "    </tr>\n",
       "    <tr>\n",
       "      <th>bt_f1_high</th>\n",
       "      <td>0.990506</td>\n",
       "    </tr>\n",
       "  </tbody>\n",
       "</table>\n",
       "</div>"
      ],
      "text/plain": [
       "                    0\n",
       "portion          test\n",
       "IBC-1_auc    0.987168\n",
       "IBC-1_acc    0.953782\n",
       "IBC-1_f1      0.84058\n",
       "IBC-3_auc    0.987168\n",
       "IBC-3_acc    0.953782\n",
       "IBC-3_f1     0.972973\n",
       "auc          0.987168\n",
       "acc          0.953782\n",
       "f1           0.972973\n",
       "bt_auc_low   0.977884\n",
       "bt_auc_high  0.999741\n",
       "bt_acc_low   0.928571\n",
       "bt_acc_high  0.983193\n",
       "bt_f1_low    0.958052\n",
       "bt_f1_high   0.990506"
      ]
     },
     "execution_count": 36,
     "metadata": {},
     "output_type": "execute_result"
    }
   ],
   "source": [
    "cohort = 'QDUH'\n",
    "test_scores = model2.predict_proba(g13_features[cohort])\n",
    "test_preds = model2.predict(g13_features[cohort])\n",
    "plot_confusion_matrix(confusion_matrix(g13_labels[cohort], test_preds), class_names)\n",
    "get_metrics(g13_labels[cohort], test_scores, class_names).T"
   ]
  },
  {
   "cell_type": "code",
   "execution_count": 37,
   "metadata": {},
   "outputs": [
    {
     "data": {
      "image/png": "[encoded data removed]",
      "text/plain": [
       "<Figure size 800x600 with 1 Axes>"
      ]
     },
     "metadata": {},
     "output_type": "display_data"
    },
    {
     "data": {
      "text/html": [
       "<div>\n",
       "<style scoped>\n",
       "    .dataframe tbody tr th:only-of-type {\n",
       "        vertical-align: middle;\n",
       "    }\n",
       "\n",
       "    .dataframe tbody tr th {\n",
       "        vertical-align: top;\n",
       "    }\n",
       "\n",
       "    .dataframe thead th {\n",
       "        text-align: right;\n",
       "    }\n",
       "</style>\n",
       "<table border=\"1\" class=\"dataframe\">\n",
       "  <thead>\n",
       "    <tr style=\"text-align: right;\">\n",
       "      <th></th>\n",
       "      <th>0</th>\n",
       "    </tr>\n",
       "  </thead>\n",
       "  <tbody>\n",
       "    <tr>\n",
       "      <th>portion</th>\n",
       "      <td>test</td>\n",
       "    </tr>\n",
       "    <tr>\n",
       "      <th>IBC-1_auc</th>\n",
       "      <td>0.976171</td>\n",
       "    </tr>\n",
       "    <tr>\n",
       "      <th>IBC-1_acc</th>\n",
       "      <td>0.929134</td>\n",
       "    </tr>\n",
       "    <tr>\n",
       "      <th>IBC-1_f1</th>\n",
       "      <td>0.830189</td>\n",
       "    </tr>\n",
       "    <tr>\n",
       "      <th>IBC-3_auc</th>\n",
       "      <td>0.976171</td>\n",
       "    </tr>\n",
       "    <tr>\n",
       "      <th>IBC-3_acc</th>\n",
       "      <td>0.929134</td>\n",
       "    </tr>\n",
       "    <tr>\n",
       "      <th>IBC-3_f1</th>\n",
       "      <td>0.955224</td>\n",
       "    </tr>\n",
       "    <tr>\n",
       "      <th>auc</th>\n",
       "      <td>0.976171</td>\n",
       "    </tr>\n",
       "    <tr>\n",
       "      <th>acc</th>\n",
       "      <td>0.929134</td>\n",
       "    </tr>\n",
       "    <tr>\n",
       "      <th>f1</th>\n",
       "      <td>0.955224</td>\n",
       "    </tr>\n",
       "    <tr>\n",
       "      <th>bt_auc_low</th>\n",
       "      <td>0.957962</td>\n",
       "    </tr>\n",
       "    <tr>\n",
       "      <th>bt_auc_high</th>\n",
       "      <td>1.004842</td>\n",
       "    </tr>\n",
       "    <tr>\n",
       "      <th>bt_acc_low</th>\n",
       "      <td>0.889764</td>\n",
       "    </tr>\n",
       "    <tr>\n",
       "      <th>bt_acc_high</th>\n",
       "      <td>0.968504</td>\n",
       "    </tr>\n",
       "    <tr>\n",
       "      <th>bt_f1_low</th>\n",
       "      <td>0.929679</td>\n",
       "    </tr>\n",
       "    <tr>\n",
       "      <th>bt_f1_high</th>\n",
       "      <td>0.985825</td>\n",
       "    </tr>\n",
       "  </tbody>\n",
       "</table>\n",
       "</div>"
      ],
      "text/plain": [
       "                    0\n",
       "portion          test\n",
       "IBC-1_auc    0.976171\n",
       "IBC-1_acc    0.929134\n",
       "IBC-1_f1     0.830189\n",
       "IBC-3_auc    0.976171\n",
       "IBC-3_acc    0.929134\n",
       "IBC-3_f1     0.955224\n",
       "auc          0.976171\n",
       "acc          0.929134\n",
       "f1           0.955224\n",
       "bt_auc_low   0.957962\n",
       "bt_auc_high  1.004842\n",
       "bt_acc_low   0.889764\n",
       "bt_acc_high  0.968504\n",
       "bt_f1_low    0.929679\n",
       "bt_f1_high   0.985825"
      ]
     },
     "execution_count": 37,
     "metadata": {},
     "output_type": "execute_result"
    }
   ],
   "source": [
    "cohort = 'SHSU'\n",
    "test_scores = model2.predict_proba(g13_features[cohort])\n",
    "test_preds = model2.predict(g13_features[cohort])\n",
    "plot_confusion_matrix(confusion_matrix(g13_labels[cohort], test_preds), class_names)\n",
    "get_metrics(g13_labels[cohort], test_scores, class_names).T"
   ]
  },
  {
   "cell_type": "code",
   "execution_count": null,
   "metadata": {},
   "outputs": [],
   "source": []
  }
 ],
 "metadata": {
  "kernelspec": {
   "display_name": "histosslscaling",
   "language": "python",
   "name": "python3"
  },
  "language_info": {
   "codemirror_mode": {
    "name": "ipython",
    "version": 3
   },
   "file_extension": ".py",
   "mimetype": "text/x-python",
   "name": "python",
   "nbconvert_exporter": "python",
   "pygments_lexer": "ipython3",
   "version": "3.8.3"
  }
 },
 "nbformat": 4,
 "nbformat_minor": 2
}
