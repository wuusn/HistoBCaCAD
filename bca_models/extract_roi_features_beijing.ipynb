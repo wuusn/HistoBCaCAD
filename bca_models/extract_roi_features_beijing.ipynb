{
 "cells": [
  {
   "cell_type": "code",
   "execution_count": 1,
   "metadata": {},
   "outputs": [],
   "source": [
    "from PIL import Image\n",
    "from rl_benchmarks.models import iBOTViT\n",
    "from openslide import open_slide\n",
    "from openslide.deepzoom import DeepZoomGenerator\n",
    "import pathlib\n",
    "from tqdm import tqdm\n",
    "from PIL import Image\n",
    "import numpy as np\n",
    "Image.MAX_IMAGE_PIXELS = None\n",
    "from torchvision import transforms\n",
    "import torch\n",
    "from torch.utils.data import Dataset\n",
    "import os\n",
    "from multiprocessing import Pool\n",
    "import umap\n",
    "import numpy as np\n",
    "import matplotlib.pyplot as plt\n",
    "import sklearn\n",
    "from rl_benchmarks.utils.linear_evaluation import get_binary_class_metrics, get_bootstrapped_metrics\n",
    "\n",
    "from PIL import Image\n",
    "import pathlib\n",
    "from tqdm import tqdm\n",
    "from PIL import Image\n",
    "import numpy as np\n",
    "Image.MAX_IMAGE_PIXELS = None\n",
    "from torchvision import transforms\n",
    "import torch\n",
    "from torch.utils.data import Dataset\n",
    "import os\n",
    "from multiprocessing import Pool\n",
    "# import umap\n",
    "import numpy as np\n",
    "import matplotlib.pyplot as plt\n",
    "import sklearn\n",
    "\n",
    "import torch\n",
    "import torch.nn as nn\n",
    "import torch.optim as optim\n",
    "from torch.utils.tensorboard import SummaryWriter\n",
    "from torchvision import transforms\n",
    "\n",
    "from sklearn.metrics import f1_score, precision_recall_fscore_support, roc_auc_score, confusion_matrix, cohen_kappa_score, accuracy_score\n",
    "import torch.nn.functional as F\n",
    "import sys\n",
    "import time\n",
    "\n",
    "import shutil\n",
    "import os\n",
    "\n",
    "# import albumentations as A\n",
    "# from albumentations.pytorch import ToTensorV2\n",
    "import cv2\n",
    "import time\n",
    "from sklearn.preprocessing import label_binarize\n",
    "\n",
    "import timm\n",
    "from metrics import report"
   ]
  },
  {
   "cell_type": "code",
   "execution_count": 2,
   "metadata": {},
   "outputs": [],
   "source": [
    "import sys\n",
    "sys.path.append('/home/yuxin/bme/BCaCAD/model')\n",
    "from patch_based_test.img import QiLuROI"
   ]
  },
  {
   "cell_type": "code",
   "execution_count": 3,
   "metadata": {},
   "outputs": [],
   "source": [
    "class IBOTMultiTaskModel(nn.Module):\n",
    "    def __init__(self, num_classes):\n",
    "        super(IBOTMultiTaskModel, self).__init__()\n",
    "        weights_path = '/home/yuxin/Downloads/ibot_vit_base_pancan.pth'\n",
    "        self.base_model = iBOTViT(architecture=\"vit_base_pancan\", encoder=\"teacher\", weights_path=weights_path)\n",
    "        # print(self.base_model)\n",
    "        self.num_features = 768\n",
    "        self.num_classes = num_classes\n",
    "\n",
    "        if isinstance(num_classes, list):\n",
    "            self.heads = nn.ModuleList([nn.Linear(self.num_features, num_class) for num_class in num_classes])\n",
    "        else:\n",
    "            self.head = self.base_model.head\n",
    "            self.head.fc = nn.Linear(self.num_features, num_classes)\n",
    "\n",
    "    def forward(self, x):\n",
    "        # Forward pass through the base model\n",
    "        x = self.base_model(x)\n",
    "        if isinstance(self.num_classes, list):\n",
    "            x = [head(x) for head in self.heads]\n",
    "        else:\n",
    "            x = self.head(x)\n",
    "        return x"
   ]
  },
  {
   "cell_type": "code",
   "execution_count": 4,
   "metadata": {},
   "outputs": [],
   "source": [
    "device = \"cuda:0\" if torch.cuda.is_available() else \"cpu\"\n",
    "num_classes = [3,3]\n",
    "img_size = patch_size = 384\n",
    "to_tensor= transforms.Compose([\n",
    "            transforms.Resize((img_size,img_size)),\n",
    "            transforms.ToTensor(),\n",
    "            transforms.Normalize([0.485, 0.456, 0.406], [0.229, 0.224, 0.225])])\n"
   ]
  },
  {
   "cell_type": "code",
   "execution_count": 5,
   "metadata": {},
   "outputs": [
    {
     "name": "stderr",
     "output_type": "stream",
     "text": [
      "\u001b[32m2024-12-01 08:05:05.765\u001b[0m | \u001b[1mINFO    \u001b[0m | \u001b[36mrl_benchmarks.models.feature_extractors.ibot_vit\u001b[0m:\u001b[36m__init__\u001b[0m:\u001b[36m78\u001b[0m - \u001b[1mPretrained weights found at /home/yuxin/Downloads/ibot_vit_base_pancan.pth and loaded with msg: _IncompatibleKeys(missing_keys=[], unexpected_keys=['head.mlp.0.weight', 'head.mlp.0.bias', 'head.mlp.2.weight', 'head.mlp.2.bias', 'head.mlp.4.weight', 'head.mlp.4.bias', 'head.last_layer.weight_g', 'head.last_layer.weight_v', 'head.last_layer2.weight_g', 'head.last_layer2.weight_v'])\u001b[0m\n"
     ]
    },
    {
     "data": {
      "text/plain": [
       "<All keys matched successfully>"
      ]
     },
     "execution_count": 5,
     "metadata": {},
     "output_type": "execute_result"
    }
   ],
   "source": [
    "model = IBOTMultiTaskModel(num_classes)\n",
    "device = \"cuda\"\n",
    "model.to(device)\n",
    "model = nn.DataParallel(model)\n",
    "weight_path = '/mnt/hd0/project/bcacad/model/pretrainSSL_ibot_vit+ibot_ft+fsl_ft/model-5.pth'\n",
    "model.load_state_dict(torch.load(weight_path, map_location=device)['model_state_dict'])\n"
   ]
  },
  {
   "cell_type": "code",
   "execution_count": 6,
   "metadata": {},
   "outputs": [],
   "source": [
    "def to_feature(model, device, path):\n",
    "    size = 336\n",
    "    bs = 8\n",
    "    im = QiLuROI(str(path), 10, 10, size)\n",
    "    im.setIterator(size)\n",
    "    patches = [to_tensor(p) for p in im]\n",
    "    for i in range(0, len(patches), bs):\n",
    "        x = torch.stack(patches[i:i+bs], dim=0)\n",
    "        x = x.to(device)\n",
    "        y = model(x)\n",
    "        if i == 0:\n",
    "            features = y.detach().cpu().numpy()\n",
    "        else:\n",
    "            features = np.concatenate([features, y.detach().cpu().numpy()], axis=0)\n",
    "    return features\n"
   ]
  },
  {
   "cell_type": "code",
   "execution_count": 7,
   "metadata": {},
   "outputs": [],
   "source": [
    "from pathlib import Path\n",
    "data_root = Path('/mnt/hd0/project/bcacad/data/roi-level')\n",
    "save_root = Path('/mnt/hd0/project/bcacad/model/roi_features')\n",
    "# test_cohorts = ['qduh', 'shsu', 'bracs', 'bcnb', 'bach', 'apght']\n",
    "# test_cohorts = ['bcnb']\n",
    "test_cohorts = ['bjszhp']"
   ]
  },
  {
   "cell_type": "code",
   "execution_count": 8,
   "metadata": {},
   "outputs": [
    {
     "name": "stdout",
     "output_type": "stream",
     "text": [
      "bjszhp\n"
     ]
    }
   ],
   "source": [
    "for cohort in test_cohorts:\n",
    "    print(cohort)\n",
    "    src_dir = data_root / cohort\n",
    "    save_dir = save_root / cohort\n",
    "    im_files = list(src_dir.glob('**/*.*'))\n",
    "    for im_file in im_files:\n",
    "        feature = to_feature(model.module.base_model, device, im_file)\n",
    "        # label = im_file.parent.name\n",
    "        save_path = save_dir / 'test' /f'{im_file.stem}.npy'\n",
    "        save_path.parent.mkdir(parents=True, exist_ok=True)\n",
    "        np.save(save_path, feature)\n",
    "    "
   ]
  },
  {
   "cell_type": "code",
   "execution_count": 7,
   "metadata": {},
   "outputs": [],
   "source": [
    "# for 100 roi test\n",
    "from pathlib import Path\n",
    "# data_root = Path('/mnt/hd0/project/bcacad/data/100_test_roi')\n",
    "data_root = Path('/mnt/hd0/project/bcacad/data/roi-level/100_rois')\n",
    "# save_root = Path('/mnt/hd0/project/bcacad/model/100_test_roi')\n",
    "save_root = Path('/mnt/hd0/project/bcacad/model/100_rois')\n",
    "im_files = list(data_root.glob('**/*.*'))\n",
    "for im_file in im_files:\n",
    "    feature = to_feature(model.module.base_model, device, im_file)\n",
    "    save_path = save_root /f'{im_file.stem}.npy'\n",
    "    save_path.parent.mkdir(parents=True, exist_ok=True)\n",
    "    np.save(save_path, feature)"
   ]
  },
  {
   "cell_type": "code",
   "execution_count": 2,
   "metadata": {},
   "outputs": [],
   "source": [
    "wsi_excel_path = '/mnt/hd0/project/bcacad/data/high-1_wsi.xlsx'\n",
    "import pandas as pd\n",
    "import shutil\n",
    "from pathlib import Path\n",
    "df = pd.read_excel(wsi_excel_path)\n",
    "wsi_names = df['name'].to_list()\n",
    "roi_root = Path('/mnt/hd0/project/bcacad/model/100_rois')\n",
    "feature_files= list(roi_root.glob('*.npy'))\n",
    "save_wsi_root = Path('/mnt/hd0/project/bcacad/model/100_wsi')\n",
    "for wsi_name in wsi_names:\n",
    "    wsi_feature = []\n",
    "    for feature_file in feature_files:\n",
    "        if wsi_name in feature_file.stem:\n",
    "            wsi_feature.append(feature_file)\n",
    "    save_root = save_wsi_root / wsi_name\n",
    "    save_root.mkdir(parents=True, exist_ok=True)\n",
    "    #copy\n",
    "    for f in wsi_feature:\n",
    "        shutil.copy(f, save_root)\n"
   ]
  }
 ],
 "metadata": {
  "kernelspec": {
   "display_name": "histosslscaling",
   "language": "python",
   "name": "python3"
  },
  "language_info": {
   "codemirror_mode": {
    "name": "ipython",
    "version": 3
   },
   "file_extension": ".py",
   "mimetype": "text/x-python",
   "name": "python",
   "nbconvert_exporter": "python",
   "pygments_lexer": "ipython3",
   "version": "3.8.3"
  }
 },
 "nbformat": 4,
 "nbformat_minor": 2
}
