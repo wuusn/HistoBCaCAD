{
 "cells": [
  {
   "cell_type": "code",
   "execution_count": 1,
   "metadata": {},
   "outputs": [],
   "source": [
    "from pathlib import Path\n",
    "import pandas as pd"
   ]
  },
  {
   "cell_type": "code",
   "execution_count": 4,
   "metadata": {},
   "outputs": [],
   "source": [
    "src_excel = '/mnt/hd0/project/bcacad/data/roi-level/100_annos_stage_2_ai_4_roi.xlsx'\n",
    "df = pd.read_excel(src_excel)\n",
    "names = df['name'].tolist()\n",
    "# names"
   ]
  },
  {
   "cell_type": "code",
   "execution_count": 5,
   "metadata": {},
   "outputs": [
    {
     "data": {
      "text/plain": [
       "23540"
      ]
     },
     "execution_count": 5,
     "metadata": {},
     "output_type": "execute_result"
    }
   ],
   "source": [
    "src_dir = Path('/mnt/hd0/project/bcacad/data/roi-level')\n",
    "# get all png files in the directory\n",
    "png_files = list(src_dir.glob('**/*.png'))\n",
    "len(png_files)"
   ]
  },
  {
   "cell_type": "code",
   "execution_count": 8,
   "metadata": {},
   "outputs": [
    {
     "data": {
      "text/plain": [
       "478"
      ]
     },
     "execution_count": 8,
     "metadata": {},
     "output_type": "execute_result"
    }
   ],
   "source": [
    "# search png files which has the prefix match the names\n",
    "select_files = []\n",
    "for name in names:\n",
    "    for png_file in png_files:\n",
    "        if png_file.name.startswith(name):\n",
    "            select_files.append(png_file)\n",
    "            break\n",
    "len(select_files)"
   ]
  },
  {
   "cell_type": "code",
   "execution_count": 9,
   "metadata": {},
   "outputs": [],
   "source": [
    "import shutil\n",
    "save_dir = Path('/mnt/hd0/project/bcacad/data/roi-level/100_rois')\n",
    "save_dir.mkdir(exist_ok=True)\n",
    "# copy select files into save_dir\n",
    "for select_file in select_files:\n",
    "    shutil.copy(select_file, save_dir)\n"
   ]
  }
 ],
 "metadata": {
  "kernelspec": {
   "display_name": "histosslscaling",
   "language": "python",
   "name": "python3"
  },
  "language_info": {
   "codemirror_mode": {
    "name": "ipython",
    "version": 3
   },
   "file_extension": ".py",
   "mimetype": "text/x-python",
   "name": "python",
   "nbconvert_exporter": "python",
   "pygments_lexer": "ipython3",
   "version": "3.8.3"
  }
 },
 "nbformat": 4,
 "nbformat_minor": 2
}
